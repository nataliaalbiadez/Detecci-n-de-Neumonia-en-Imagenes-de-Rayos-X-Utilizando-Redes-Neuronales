{
  "nbformat": 4,
  "nbformat_minor": 0,
  "metadata": {
    "colab": {
      "name": "Ptoyecto IA",
      "provenance": [],
      "collapsed_sections": []
    },
    "kernelspec": {
      "name": "python3",
      "display_name": "Python 3"
    },
    "accelerator": "GPU"
  },
  "cells": [
    {
      "cell_type": "markdown",
      "metadata": {
        "id": "B_C899MCogr1",
        "colab_type": "text"
      },
      "source": [
        ""
      ]
    },
    {
      "cell_type": "code",
      "metadata": {
        "id": "lahegVjaTSHe",
        "colab_type": "code",
        "colab": {
          "base_uri": "https://localhost:8080/",
          "height": 425
        },
        "outputId": "9ace7c66-b5db-44b8-c691-6cf0ea5b540f"
      },
      "source": [
        "!nvidia-smi\n",
        "!/usr/local/cuda/bin/nvcc --version"
      ],
      "execution_count": null,
      "outputs": [
        {
          "output_type": "stream",
          "text": [
            "Sun Aug  9 21:59:06 2020       \n",
            "+-----------------------------------------------------------------------------+\n",
            "| NVIDIA-SMI 450.57       Driver Version: 418.67       CUDA Version: 10.1     |\n",
            "|-------------------------------+----------------------+----------------------+\n",
            "| GPU  Name        Persistence-M| Bus-Id        Disp.A | Volatile Uncorr. ECC |\n",
            "| Fan  Temp  Perf  Pwr:Usage/Cap|         Memory-Usage | GPU-Util  Compute M. |\n",
            "|                               |                      |               MIG M. |\n",
            "|===============================+======================+======================|\n",
            "|   0  Tesla K80           Off  | 00000000:00:04.0 Off |                    0 |\n",
            "| N/A   73C    P0    75W / 149W |   8429MiB / 11441MiB |      0%      Default |\n",
            "|                               |                      |                 ERR! |\n",
            "+-------------------------------+----------------------+----------------------+\n",
            "                                                                               \n",
            "+-----------------------------------------------------------------------------+\n",
            "| Processes:                                                                  |\n",
            "|  GPU   GI   CI        PID   Type   Process name                  GPU Memory |\n",
            "|        ID   ID                                                   Usage      |\n",
            "|=============================================================================|\n",
            "|  No running processes found                                                 |\n",
            "+-----------------------------------------------------------------------------+\n",
            "nvcc: NVIDIA (R) Cuda compiler driver\n",
            "Copyright (c) 2005-2019 NVIDIA Corporation\n",
            "Built on Sun_Jul_28_19:07:16_PDT_2019\n",
            "Cuda compilation tools, release 10.1, V10.1.243\n"
          ],
          "name": "stdout"
        }
      ]
    },
    {
      "cell_type": "code",
      "metadata": {
        "id": "PJmF1S0S9Dq-",
        "colab_type": "code",
        "colab": {
          "base_uri": "https://localhost:8080/",
          "height": 1000
        },
        "outputId": "0225cba4-32bc-4186-f0c9-8435c51694e9"
      },
      "source": [
        "!pip install tensorflow-gpu==2.1.0"
      ],
      "execution_count": null,
      "outputs": [
        {
          "output_type": "stream",
          "text": [
            "Collecting tensorflow-gpu==2.1.0\n",
            "\u001b[?25l  Downloading https://files.pythonhosted.org/packages/0a/93/c7bca39b23aae45cd2e85ad3871c81eccc63b9c5276e926511e2e5b0879d/tensorflow_gpu-2.1.0-cp36-cp36m-manylinux2010_x86_64.whl (421.8MB)\n",
            "\u001b[K     |████████████████████████████████| 421.8MB 29kB/s \n",
            "\u001b[?25hRequirement already satisfied: numpy<2.0,>=1.16.0 in /usr/local/lib/python3.6/dist-packages (from tensorflow-gpu==2.1.0) (1.18.5)\n",
            "Requirement already satisfied: opt-einsum>=2.3.2 in /usr/local/lib/python3.6/dist-packages (from tensorflow-gpu==2.1.0) (3.3.0)\n",
            "Collecting tensorflow-estimator<2.2.0,>=2.1.0rc0\n",
            "\u001b[?25l  Downloading https://files.pythonhosted.org/packages/18/90/b77c328a1304437ab1310b463e533fa7689f4bfc41549593056d812fab8e/tensorflow_estimator-2.1.0-py2.py3-none-any.whl (448kB)\n",
            "\u001b[K     |████████████████████████████████| 450kB 52.3MB/s \n",
            "\u001b[?25hRequirement already satisfied: wrapt>=1.11.1 in /usr/local/lib/python3.6/dist-packages (from tensorflow-gpu==2.1.0) (1.12.1)\n",
            "Requirement already satisfied: six>=1.12.0 in /usr/local/lib/python3.6/dist-packages (from tensorflow-gpu==2.1.0) (1.15.0)\n",
            "Collecting keras-applications>=1.0.8\n",
            "\u001b[?25l  Downloading https://files.pythonhosted.org/packages/71/e3/19762fdfc62877ae9102edf6342d71b28fbfd9dea3d2f96a882ce099b03f/Keras_Applications-1.0.8-py3-none-any.whl (50kB)\n",
            "\u001b[K     |████████████████████████████████| 51kB 7.2MB/s \n",
            "\u001b[?25hRequirement already satisfied: keras-preprocessing>=1.1.0 in /usr/local/lib/python3.6/dist-packages (from tensorflow-gpu==2.1.0) (1.1.2)\n",
            "Requirement already satisfied: protobuf>=3.8.0 in /usr/local/lib/python3.6/dist-packages (from tensorflow-gpu==2.1.0) (3.12.4)\n",
            "Requirement already satisfied: termcolor>=1.1.0 in /usr/local/lib/python3.6/dist-packages (from tensorflow-gpu==2.1.0) (1.1.0)\n",
            "Collecting tensorboard<2.2.0,>=2.1.0\n",
            "\u001b[?25l  Downloading https://files.pythonhosted.org/packages/d9/41/bbf49b61370e4f4d245d4c6051dfb6db80cec672605c91b1652ac8cc3d38/tensorboard-2.1.1-py3-none-any.whl (3.8MB)\n",
            "\u001b[K     |████████████████████████████████| 3.9MB 56.0MB/s \n",
            "\u001b[?25hRequirement already satisfied: astor>=0.6.0 in /usr/local/lib/python3.6/dist-packages (from tensorflow-gpu==2.1.0) (0.8.1)\n",
            "Requirement already satisfied: wheel>=0.26; python_version >= \"3\" in /usr/local/lib/python3.6/dist-packages (from tensorflow-gpu==2.1.0) (0.35.1)\n",
            "Requirement already satisfied: scipy==1.4.1; python_version >= \"3\" in /usr/local/lib/python3.6/dist-packages (from tensorflow-gpu==2.1.0) (1.4.1)\n",
            "Requirement already satisfied: google-pasta>=0.1.6 in /usr/local/lib/python3.6/dist-packages (from tensorflow-gpu==2.1.0) (0.2.0)\n",
            "Requirement already satisfied: grpcio>=1.8.6 in /usr/local/lib/python3.6/dist-packages (from tensorflow-gpu==2.1.0) (1.31.0)\n",
            "Requirement already satisfied: absl-py>=0.7.0 in /usr/local/lib/python3.6/dist-packages (from tensorflow-gpu==2.1.0) (0.8.1)\n",
            "Collecting gast==0.2.2\n",
            "  Downloading https://files.pythonhosted.org/packages/4e/35/11749bf99b2d4e3cceb4d55ca22590b0d7c2c62b9de38ac4a4a7f4687421/gast-0.2.2.tar.gz\n",
            "Requirement already satisfied: h5py in /usr/local/lib/python3.6/dist-packages (from keras-applications>=1.0.8->tensorflow-gpu==2.1.0) (2.10.0)\n",
            "Requirement already satisfied: setuptools in /usr/local/lib/python3.6/dist-packages (from protobuf>=3.8.0->tensorflow-gpu==2.1.0) (49.6.0)\n",
            "Requirement already satisfied: markdown>=2.6.8 in /usr/local/lib/python3.6/dist-packages (from tensorboard<2.2.0,>=2.1.0->tensorflow-gpu==2.1.0) (3.2.2)\n",
            "Requirement already satisfied: werkzeug>=0.11.15 in /usr/local/lib/python3.6/dist-packages (from tensorboard<2.2.0,>=2.1.0->tensorflow-gpu==2.1.0) (1.0.1)\n",
            "Requirement already satisfied: google-auth-oauthlib<0.5,>=0.4.1 in /usr/local/lib/python3.6/dist-packages (from tensorboard<2.2.0,>=2.1.0->tensorflow-gpu==2.1.0) (0.4.1)\n",
            "Requirement already satisfied: requests<3,>=2.21.0 in /usr/local/lib/python3.6/dist-packages (from tensorboard<2.2.0,>=2.1.0->tensorflow-gpu==2.1.0) (2.23.0)\n",
            "Requirement already satisfied: google-auth<2,>=1.6.3 in /usr/local/lib/python3.6/dist-packages (from tensorboard<2.2.0,>=2.1.0->tensorflow-gpu==2.1.0) (1.17.2)\n",
            "Requirement already satisfied: importlib-metadata; python_version < \"3.8\" in /usr/local/lib/python3.6/dist-packages (from markdown>=2.6.8->tensorboard<2.2.0,>=2.1.0->tensorflow-gpu==2.1.0) (1.7.0)\n",
            "Requirement already satisfied: requests-oauthlib>=0.7.0 in /usr/local/lib/python3.6/dist-packages (from google-auth-oauthlib<0.5,>=0.4.1->tensorboard<2.2.0,>=2.1.0->tensorflow-gpu==2.1.0) (1.3.0)\n",
            "Requirement already satisfied: certifi>=2017.4.17 in /usr/local/lib/python3.6/dist-packages (from requests<3,>=2.21.0->tensorboard<2.2.0,>=2.1.0->tensorflow-gpu==2.1.0) (2020.6.20)\n",
            "Requirement already satisfied: idna<3,>=2.5 in /usr/local/lib/python3.6/dist-packages (from requests<3,>=2.21.0->tensorboard<2.2.0,>=2.1.0->tensorflow-gpu==2.1.0) (2.10)\n",
            "Requirement already satisfied: urllib3!=1.25.0,!=1.25.1,<1.26,>=1.21.1 in /usr/local/lib/python3.6/dist-packages (from requests<3,>=2.21.0->tensorboard<2.2.0,>=2.1.0->tensorflow-gpu==2.1.0) (1.24.3)\n",
            "Requirement already satisfied: chardet<4,>=3.0.2 in /usr/local/lib/python3.6/dist-packages (from requests<3,>=2.21.0->tensorboard<2.2.0,>=2.1.0->tensorflow-gpu==2.1.0) (3.0.4)\n",
            "Requirement already satisfied: pyasn1-modules>=0.2.1 in /usr/local/lib/python3.6/dist-packages (from google-auth<2,>=1.6.3->tensorboard<2.2.0,>=2.1.0->tensorflow-gpu==2.1.0) (0.2.8)\n",
            "Requirement already satisfied: rsa<5,>=3.1.4; python_version >= \"3\" in /usr/local/lib/python3.6/dist-packages (from google-auth<2,>=1.6.3->tensorboard<2.2.0,>=2.1.0->tensorflow-gpu==2.1.0) (4.6)\n",
            "Requirement already satisfied: cachetools<5.0,>=2.0.0 in /usr/local/lib/python3.6/dist-packages (from google-auth<2,>=1.6.3->tensorboard<2.2.0,>=2.1.0->tensorflow-gpu==2.1.0) (4.1.1)\n",
            "Requirement already satisfied: zipp>=0.5 in /usr/local/lib/python3.6/dist-packages (from importlib-metadata; python_version < \"3.8\"->markdown>=2.6.8->tensorboard<2.2.0,>=2.1.0->tensorflow-gpu==2.1.0) (3.1.0)\n",
            "Requirement already satisfied: oauthlib>=3.0.0 in /usr/local/lib/python3.6/dist-packages (from requests-oauthlib>=0.7.0->google-auth-oauthlib<0.5,>=0.4.1->tensorboard<2.2.0,>=2.1.0->tensorflow-gpu==2.1.0) (3.1.0)\n",
            "Requirement already satisfied: pyasn1<0.5.0,>=0.4.6 in /usr/local/lib/python3.6/dist-packages (from pyasn1-modules>=0.2.1->google-auth<2,>=1.6.3->tensorboard<2.2.0,>=2.1.0->tensorflow-gpu==2.1.0) (0.4.8)\n",
            "Building wheels for collected packages: gast\n",
            "  Building wheel for gast (setup.py) ... \u001b[?25l\u001b[?25hdone\n",
            "  Created wheel for gast: filename=gast-0.2.2-cp36-none-any.whl size=7542 sha256=7484a9b77b6e1e050a1046e40e39839d1571f0cf650c4f1a497799d204765cf6\n",
            "  Stored in directory: /root/.cache/pip/wheels/5c/2e/7e/a1d4d4fcebe6c381f378ce7743a3ced3699feb89bcfbdadadd\n",
            "Successfully built gast\n",
            "\u001b[31mERROR: tensorflow 2.3.0 has requirement gast==0.3.3, but you'll have gast 0.2.2 which is incompatible.\u001b[0m\n",
            "\u001b[31mERROR: tensorflow 2.3.0 has requirement tensorboard<3,>=2.3.0, but you'll have tensorboard 2.1.1 which is incompatible.\u001b[0m\n",
            "\u001b[31mERROR: tensorflow 2.3.0 has requirement tensorflow-estimator<2.4.0,>=2.3.0, but you'll have tensorflow-estimator 2.1.0 which is incompatible.\u001b[0m\n",
            "\u001b[31mERROR: tensorflow-probability 0.11.0 has requirement gast>=0.3.2, but you'll have gast 0.2.2 which is incompatible.\u001b[0m\n",
            "Installing collected packages: tensorflow-estimator, keras-applications, tensorboard, gast, tensorflow-gpu\n",
            "  Found existing installation: tensorflow-estimator 2.3.0\n",
            "    Uninstalling tensorflow-estimator-2.3.0:\n",
            "      Successfully uninstalled tensorflow-estimator-2.3.0\n",
            "  Found existing installation: tensorboard 2.3.0\n",
            "    Uninstalling tensorboard-2.3.0:\n",
            "      Successfully uninstalled tensorboard-2.3.0\n",
            "  Found existing installation: gast 0.3.3\n",
            "    Uninstalling gast-0.3.3:\n",
            "      Successfully uninstalled gast-0.3.3\n",
            "Successfully installed gast-0.2.2 keras-applications-1.0.8 tensorboard-2.1.1 tensorflow-estimator-2.1.0 tensorflow-gpu-2.1.0\n"
          ],
          "name": "stdout"
        }
      ]
    },
    {
      "cell_type": "markdown",
      "metadata": {
        "id": "M7qgb5ScstyK",
        "colab_type": "text"
      },
      "source": [
        "**Kagge 224**"
      ]
    },
    {
      "cell_type": "code",
      "metadata": {
        "id": "-8cJWtLgqtUG",
        "colab_type": "code",
        "colab": {
          "base_uri": "https://localhost:8080/",
          "height": 445
        },
        "outputId": "ba20b207-d675-4f45-8364-8e870965ceb0"
      },
      "source": [
        "!wget --no-check-certificate \\\n",
        "  https://www.dropbox.com/s/aram63vt2i14xsb/chest_xray_224.zip?dl=0 \\\n",
        "  -O /tmp/chest_xray_224.zip"
      ],
      "execution_count": null,
      "outputs": [
        {
          "output_type": "stream",
          "text": [
            "--2020-09-06 20:24:57--  https://www.dropbox.com/s/aram63vt2i14xsb/chest_xray_224.zip?dl=0\n",
            "Resolving www.dropbox.com (www.dropbox.com)... 162.125.1.1, 2620:100:6016:1::a27d:101\n",
            "Connecting to www.dropbox.com (www.dropbox.com)|162.125.1.1|:443... connected.\n",
            "HTTP request sent, awaiting response... 301 Moved Permanently\n",
            "Location: /s/raw/aram63vt2i14xsb/chest_xray_224.zip [following]\n",
            "--2020-09-06 20:24:57--  https://www.dropbox.com/s/raw/aram63vt2i14xsb/chest_xray_224.zip\n",
            "Reusing existing connection to www.dropbox.com:443.\n",
            "HTTP request sent, awaiting response... 302 Found\n",
            "Location: https://uc94d538948f951cf8e1fcdb6423.dl.dropboxusercontent.com/cd/0/inline/A-5ynVRIRuPCGa-ZUkzfH9Hz8uJDkAy8pkwohJdIKHsUCNyenLydeFESyUODG85KqFN4tQNGk7K_r_j_OLNIf7yxIz-IJzQwGunD1YAhUa4-wz1aiKALjk_XeqzWeXuvx1g/file# [following]\n",
            "--2020-09-06 20:24:57--  https://uc94d538948f951cf8e1fcdb6423.dl.dropboxusercontent.com/cd/0/inline/A-5ynVRIRuPCGa-ZUkzfH9Hz8uJDkAy8pkwohJdIKHsUCNyenLydeFESyUODG85KqFN4tQNGk7K_r_j_OLNIf7yxIz-IJzQwGunD1YAhUa4-wz1aiKALjk_XeqzWeXuvx1g/file\n",
            "Resolving uc94d538948f951cf8e1fcdb6423.dl.dropboxusercontent.com (uc94d538948f951cf8e1fcdb6423.dl.dropboxusercontent.com)... 162.125.1.15, 2620:100:6016:15::a27d:10f\n",
            "Connecting to uc94d538948f951cf8e1fcdb6423.dl.dropboxusercontent.com (uc94d538948f951cf8e1fcdb6423.dl.dropboxusercontent.com)|162.125.1.15|:443... connected.\n",
            "HTTP request sent, awaiting response... 302 Found\n",
            "Location: /cd/0/inline2/A-6F9yGvi7jMTnbT3egFXtmqI-nJfHS-lnKdR9aC_M4JftORNW52ozARL37enPtuBlc5hHFmLUPhVY8F9UtqtPOu-d6UNwSXkrACY3xfYj-0HSPwWGraUFqlDzSKxWx3V_ljFbKPL-q_9XgUGiHoByPBODbQkG6C5qvHKbLs-WbzKswmmLCkteblS-zNf7pB-o-GEemDo-zva3xOrkXdbioyFNRyU_XcK2t0X3zDqtz7yJyQElxeGcTAqHbk2JIuXtqfVutDota7JcpbDcwYsVX_cHI9MSWbsjDRarU_HpBHZCDHMM_saJp9ZfUGwHG2kdgEEI0odN8j158UTfQ2zHIFaJ0R805x18c-acX6U20Avg/file [following]\n",
            "--2020-09-06 20:24:57--  https://uc94d538948f951cf8e1fcdb6423.dl.dropboxusercontent.com/cd/0/inline2/A-6F9yGvi7jMTnbT3egFXtmqI-nJfHS-lnKdR9aC_M4JftORNW52ozARL37enPtuBlc5hHFmLUPhVY8F9UtqtPOu-d6UNwSXkrACY3xfYj-0HSPwWGraUFqlDzSKxWx3V_ljFbKPL-q_9XgUGiHoByPBODbQkG6C5qvHKbLs-WbzKswmmLCkteblS-zNf7pB-o-GEemDo-zva3xOrkXdbioyFNRyU_XcK2t0X3zDqtz7yJyQElxeGcTAqHbk2JIuXtqfVutDota7JcpbDcwYsVX_cHI9MSWbsjDRarU_HpBHZCDHMM_saJp9ZfUGwHG2kdgEEI0odN8j158UTfQ2zHIFaJ0R805x18c-acX6U20Avg/file\n",
            "Reusing existing connection to uc94d538948f951cf8e1fcdb6423.dl.dropboxusercontent.com:443.\n",
            "HTTP request sent, awaiting response... 200 OK\n",
            "Length: 63502772 (61M) [application/zip]\n",
            "Saving to: ‘/tmp/chest_xray_224.zip’\n",
            "\n",
            "/tmp/chest_xray_224 100%[===================>]  60.56M  53.7MB/s    in 1.1s    \n",
            "\n",
            "2020-09-06 20:24:59 (53.7 MB/s) - ‘/tmp/chest_xray_224.zip’ saved [63502772/63502772]\n",
            "\n"
          ],
          "name": "stdout"
        }
      ]
    },
    {
      "cell_type": "code",
      "metadata": {
        "id": "vnkLp_adxGct",
        "colab_type": "code",
        "colab": {}
      },
      "source": [
        "import os\n",
        "import zipfile\n",
        "\n",
        "local_zip = '/tmp/chest_xray_224.zip'\n",
        "\n",
        "\n",
        "zip_ref = zipfile.ZipFile(local_zip, 'r')\n",
        "\n",
        "zip_ref.extractall('/tmp')\n",
        "zip_ref.close()"
      ],
      "execution_count": null,
      "outputs": []
    },
    {
      "cell_type": "code",
      "metadata": {
        "id": "0AiA5hv9xJ-m",
        "colab_type": "code",
        "colab": {}
      },
      "source": [
        "\n",
        "base_dir = '/tmp/chest_xray_224'\n",
        "\n",
        "\n",
        "train_dir =      os.path.join(base_dir, 'train')\n",
        "validation_dir = os.path.join(base_dir, 'val')\n",
        "test_dir =       os.path.join(base_dir, 'test')\n",
        "\n",
        "# Directorio con las imagenes de training \n",
        "train_normal_dir = os.path.join(train_dir, 'NORMAL')\n",
        "train_neumonia_dir = os.path.join(train_dir, 'PNEUMONIA')\n",
        "\n",
        "\n",
        "# Directorio con las imagenes de validation\n",
        "validation_normal_dir = os.path.join(validation_dir, 'NORMAL')\n",
        "validation_neumonia_dir = os.path.join(validation_dir, 'PNEUMONIA')\n",
        "\n",
        "\n",
        "# Directorio con las imagenes de test\n",
        "test_normal_dir = os.path.join(test_dir, 'NORMAL')\n",
        "test_neumonia_dir = os.path.join(test_dir, 'PNEUMONIA')"
      ],
      "execution_count": null,
      "outputs": []
    },
    {
      "cell_type": "markdown",
      "metadata": {
        "id": "zaCIF9eS_LAL",
        "colab_type": "text"
      },
      "source": [
        "**Arquitectura ResNet 50 V2**\n"
      ]
    },
    {
      "cell_type": "code",
      "metadata": {
        "id": "xBCjvkGL_Ir4",
        "colab_type": "code",
        "colab": {}
      },
      "source": [
        "import tensorflow as tf\n",
        "\n",
        "pre_trained_model = tf.keras.applications.ResNet50V2(\n",
        "    include_top=False,\n",
        "    weights=\"imagenet\",\n",
        "    input_tensor=None,\n",
        "    input_shape=(224,224,3),\n",
        "    pooling=None,\n",
        ")\n"
      ],
      "execution_count": null,
      "outputs": []
    },
    {
      "cell_type": "markdown",
      "metadata": {
        "id": "aqi9JhKkMdpm",
        "colab_type": "text"
      },
      "source": [
        "**----MODELO----**"
      ]
    },
    {
      "cell_type": "code",
      "metadata": {
        "id": "OystEkXJMtUy",
        "colab_type": "code",
        "colab": {}
      },
      "source": [
        "modelFE = tf.keras.models.Sequential([\n",
        "    pre_trained_model,\n",
        "    tf.keras.layers.Flatten(),\n",
        "    tf.keras.layers.Dropout(0.3),\n",
        "    tf.keras.layers.Dense(220, activation='relu'),\n",
        "    tf.keras.layers.Dense(2, activation='softmax')\n",
        "])\n",
        "#pre_trained_model.summary()"
      ],
      "execution_count": null,
      "outputs": []
    },
    {
      "cell_type": "code",
      "metadata": {
        "id": "AovP2oTuMvmX",
        "colab_type": "code",
        "colab": {
          "base_uri": "https://localhost:8080/",
          "height": 323
        },
        "outputId": "dc3c1620-121c-4478-9626-10073752ddb1"
      },
      "source": [
        "modelFE.summary()"
      ],
      "execution_count": null,
      "outputs": [
        {
          "output_type": "stream",
          "text": [
            "Model: \"sequential_3\"\n",
            "_________________________________________________________________\n",
            "Layer (type)                 Output Shape              Param #   \n",
            "=================================================================\n",
            "resnet50v2 (Functional)      (None, 7, 7, 2048)        23564800  \n",
            "_________________________________________________________________\n",
            "flatten_3 (Flatten)          (None, 100352)            0         \n",
            "_________________________________________________________________\n",
            "dropout_3 (Dropout)          (None, 100352)            0         \n",
            "_________________________________________________________________\n",
            "dense_4 (Dense)              (None, 220)               22077660  \n",
            "_________________________________________________________________\n",
            "dense_5 (Dense)              (None, 2)                 442       \n",
            "=================================================================\n",
            "Total params: 45,642,902\n",
            "Trainable params: 45,597,462\n",
            "Non-trainable params: 45,440\n",
            "_________________________________________________________________\n"
          ],
          "name": "stdout"
        }
      ]
    },
    {
      "cell_type": "code",
      "metadata": {
        "id": "tJNO3E8RjsBm",
        "colab_type": "code",
        "colab": {}
      },
      "source": [
        "from tensorflow.keras.optimizers import RMSprop\n",
        "from tensorflow.keras.optimizers import Adam\n",
        "\n",
        "epochs=20\n",
        "modelFE.compile(loss='binary_crossentropy',\n",
        "              optimizer=RMSprop(lr=1e-4), \n",
        "              metrics=['acc'])"
      ],
      "execution_count": null,
      "outputs": []
    },
    {
      "cell_type": "code",
      "metadata": {
        "id": "6bvFQY1E6R6u",
        "colab_type": "code",
        "colab": {
          "base_uri": "https://localhost:8080/",
          "height": 68
        },
        "outputId": "d5b14900-5266-4f56-bf5a-f33ed4e5cfc3"
      },
      "source": [
        "from tensorflow.keras.preprocessing.image import ImageDataGenerator\n",
        "batch_size = 20\n",
        "\n",
        "#train_datagen = ImageDataGenerator(\n",
        "#      rescale=1./255,\n",
        "#      rotation_range=40,\n",
        "#      width_shift_range=0.2,\n",
        "#      height_shift_range=0.2,\n",
        "#      shear_range=0.2,\n",
        "#      zoom_range=0.2,\n",
        "#      horizontal_flip=True,\n",
        "#      fill_mode='nearest')\n",
        "\n",
        "train_datagen = ImageDataGenerator( rescale = None )\n",
        "validation_datagen  = ImageDataGenerator( rescale = None )\n",
        "test_datagen  = ImageDataGenerator( rescale = None )\n",
        "\n",
        "\n",
        "train_generator = train_datagen.flow_from_directory(train_dir,\n",
        "                                                    batch_size=batch_size,\n",
        "                                                    class_mode='categorical',\n",
        "                                                    target_size=(224, 224))     \n",
        "\n",
        "validation_generator =  validation_datagen.flow_from_directory(validation_dir,\n",
        "                                                         batch_size=batch_size,\n",
        "                                                         class_mode  = 'categorical',\n",
        "                                                         target_size = (224, 224))\n",
        "\n",
        "test_generator =  test_datagen.flow_from_directory(test_dir,\n",
        "                                                         batch_size=batch_size,\n",
        "                                                         class_mode  = 'categorical',\n",
        "                                                         target_size = (224, 224))\n"
      ],
      "execution_count": null,
      "outputs": [
        {
          "output_type": "stream",
          "text": [
            "Found 2714 images belonging to 2 classes.\n",
            "Found 46 images belonging to 2 classes.\n",
            "Found 624 images belonging to 2 classes.\n"
          ],
          "name": "stdout"
        }
      ]
    },
    {
      "cell_type": "code",
      "metadata": {
        "id": "twAgv6cTkN7S",
        "colab_type": "code",
        "colab": {
          "base_uri": "https://localhost:8080/",
          "height": 697
        },
        "outputId": "26c90f72-4f2d-4403-aa74-f5447383f3bb"
      },
      "source": [
        "batch_size = 20\n",
        "steps_per_epoch = train_generator.n // batch_size\n",
        "validation_steps = validation_generator.n // batch_size\n",
        "\n",
        "historyFE = modelFE.fit_generator(\n",
        "            train_generator,\n",
        "            validation_data = validation_generator,\n",
        "            steps_per_epoch = steps_per_epoch,\n",
        "            epochs = 20, \n",
        "            validation_steps = validation_steps,\n",
        "            verbose = 2)"
      ],
      "execution_count": null,
      "outputs": [
        {
          "output_type": "stream",
          "text": [
            "Epoch 1/20\n",
            "135/135 - 29s - loss: 0.1964 - acc: 0.9503 - val_loss: 0.7842 - val_acc: 0.9250\n",
            "Epoch 2/20\n",
            "135/135 - 29s - loss: 0.0708 - acc: 0.9800 - val_loss: 1.9069 - val_acc: 0.8500\n",
            "Epoch 3/20\n",
            "135/135 - 29s - loss: 0.0450 - acc: 0.9911 - val_loss: 0.7669 - val_acc: 0.9500\n",
            "Epoch 4/20\n",
            "135/135 - 29s - loss: 0.0385 - acc: 0.9937 - val_loss: 0.0064 - val_acc: 1.0000\n",
            "Epoch 5/20\n",
            "135/135 - 29s - loss: 0.0449 - acc: 0.9922 - val_loss: 0.3929 - val_acc: 0.9750\n",
            "Epoch 6/20\n",
            "135/135 - 29s - loss: 0.0288 - acc: 0.9937 - val_loss: 0.0619 - val_acc: 0.9750\n",
            "Epoch 7/20\n",
            "135/135 - 29s - loss: 0.0393 - acc: 0.9933 - val_loss: 0.5996 - val_acc: 0.9250\n",
            "Epoch 8/20\n",
            "135/135 - 29s - loss: 0.0393 - acc: 0.9929 - val_loss: 4.2177 - val_acc: 0.7250\n",
            "Epoch 9/20\n",
            "135/135 - 29s - loss: 0.0206 - acc: 0.9959 - val_loss: 0.0058 - val_acc: 1.0000\n",
            "Epoch 10/20\n",
            "135/135 - 29s - loss: 0.0312 - acc: 0.9948 - val_loss: 0.2505 - val_acc: 0.9750\n",
            "Epoch 11/20\n",
            "135/135 - 29s - loss: 0.0199 - acc: 0.9978 - val_loss: 0.0315 - val_acc: 0.9750\n",
            "Epoch 12/20\n",
            "135/135 - 28s - loss: 0.0232 - acc: 0.9974 - val_loss: 0.1415 - val_acc: 0.9750\n",
            "Epoch 13/20\n",
            "135/135 - 28s - loss: 0.0058 - acc: 0.9996 - val_loss: 0.1695 - val_acc: 0.9750\n",
            "Epoch 14/20\n",
            "135/135 - 28s - loss: 0.0075 - acc: 0.9993 - val_loss: 0.0000e+00 - val_acc: 1.0000\n",
            "Epoch 15/20\n",
            "135/135 - 28s - loss: 1.8864e-04 - acc: 1.0000 - val_loss: 1.0837e-04 - val_acc: 1.0000\n",
            "Epoch 16/20\n",
            "135/135 - 28s - loss: 0.0303 - acc: 0.9967 - val_loss: 0.3834 - val_acc: 0.9750\n",
            "Epoch 17/20\n",
            "135/135 - 28s - loss: 0.0112 - acc: 0.9985 - val_loss: 0.0195 - val_acc: 0.9750\n",
            "Epoch 18/20\n",
            "135/135 - 28s - loss: 0.0234 - acc: 0.9970 - val_loss: 1.4661 - val_acc: 0.8750\n",
            "Epoch 19/20\n",
            "135/135 - 28s - loss: 0.0237 - acc: 0.9974 - val_loss: 0.2336 - val_acc: 0.9750\n",
            "Epoch 20/20\n",
            "135/135 - 28s - loss: 0.0122 - acc: 0.9978 - val_loss: 0.3834 - val_acc: 0.9750\n"
          ],
          "name": "stdout"
        }
      ]
    },
    {
      "cell_type": "code",
      "metadata": {
        "id": "7rMpccGwCq4z",
        "colab_type": "code",
        "colab": {
          "base_uri": "https://localhost:8080/",
          "height": 34
        },
        "outputId": "0c718f0b-055f-4b99-fbe1-522d5dd022ac"
      },
      "source": [
        "test_lost, test_acc= modelFE.evaluate_generator(test_generator)\n",
        "print (\"Test Accuracy:\", test_acc)"
      ],
      "execution_count": null,
      "outputs": [
        {
          "output_type": "stream",
          "text": [
            "Test Accuracy: 0.9086538553237915\n"
          ],
          "name": "stdout"
        }
      ]
    },
    {
      "cell_type": "code",
      "metadata": {
        "id": "xJ9qP9pwpqb4",
        "colab_type": "code",
        "colab": {
          "base_uri": "https://localhost:8080/",
          "height": 624
        },
        "outputId": "253fccd8-c50b-4019-87a1-66e6099176e8"
      },
      "source": [
        "%matplotlib inline\n",
        "\n",
        "import matplotlib.pyplot as plt\n",
        "\n",
        "acc      = historyFE.history[     'acc' ]\n",
        "val_acc  = historyFE.history[ 'val_acc' ]\n",
        "loss     = historyFE.history[    'loss' ]\n",
        "val_loss = historyFE.history['val_loss' ]\n",
        "\n",
        "epochs    = range(1,len(acc)+1,1) # obtener número de epochs\n",
        "\n",
        "plt.plot  ( epochs,     acc, 'r--', label='Train acc'  )\n",
        "plt.plot  ( epochs, val_acc,  'b', label='Validation acc')\n",
        "plt.title ('Train and validation accuracy')\n",
        "plt.ylabel('acc')\n",
        "\n",
        "plt.xlabel('epochs')\n",
        "plt.savefig(\"graficaacc.pdf\", bbox_inches=\"tight\")\n",
        "plt.savefig(\"graficaacc.png\", bbox_inches=\"tight\")\n",
        "plt.legend()\n",
        "plt.figure()\n",
        "\n",
        "plt.plot  ( epochs,     loss, 'r--' )\n",
        "plt.plot  ( epochs, val_loss ,  'b' )\n",
        "plt.title ('Train and validation loss'   )\n",
        "plt.ylabel('loss')\n",
        "plt.xlabel('epochs')\n",
        "plt.ylim(0,2)\n",
        "plt.savefig(\"graficaloss.pdf\", bbox_inches=\"tight\")\n",
        "plt.savefig(\"graficaloss.png\", bbox_inches=\"tight\")\n",
        "plt.legend()\n",
        "plt.figure()\n"
      ],
      "execution_count": null,
      "outputs": [
        {
          "output_type": "stream",
          "text": [
            "No handles with labels found to put in legend.\n"
          ],
          "name": "stderr"
        },
        {
          "output_type": "execute_result",
          "data": {
            "text/plain": [
              "<Figure size 432x288 with 0 Axes>"
            ]
          },
          "metadata": {
            "tags": []
          },
          "execution_count": 31
        },
        {
          "output_type": "display_data",
          "data": {
            "image/png": "[encoded data removed]",
            "text/plain": [
              "<Figure size 432x288 with 1 Axes>"
            ]
          },
          "metadata": {
            "tags": [],
            "needs_background": "light"
          }
        },
        {
          "output_type": "display_data",
          "data": {
            "image/png": "[encoded data removed]",
            "text/plain": [
              "<Figure size 432x288 with 1 Axes>"
            ]
          },
          "metadata": {
            "tags": [],
            "needs_background": "light"
          }
        },
        {
          "output_type": "display_data",
          "data": {
            "text/plain": [
              "<Figure size 432x288 with 0 Axes>"
            ]
          },
          "metadata": {
            "tags": []
          }
        }
      ]
    },
    {
      "cell_type": "code",
      "metadata": {
        "id": "-HlfuueQra3r",
        "colab_type": "code",
        "colab": {
          "base_uri": "https://localhost:8080/",
          "height": 105
        },
        "outputId": "0f41eb80-3022-4fc0-bb64-08c8a22086d4"
      },
      "source": [
        "print('val_acc: ', historyFE.history[ 'val_acc' ])\n",
        "print('acc: ',historyFE.history[ 'acc' ])\n",
        "print('Val_loss: ',historyFE.history[ 'val_loss' ])\n",
        "print('loss: ',historyFE.history[ 'loss' ])"
      ],
      "execution_count": null,
      "outputs": [
        {
          "output_type": "stream",
          "text": [
            "val_acc:  [0.925000011920929, 0.8500000238418579, 0.949999988079071, 1.0, 0.9750000238418579, 0.9750000238418579, 0.925000011920929, 0.7250000238418579, 1.0, 0.9750000238418579, 0.9750000238418579, 0.9750000238418579, 0.9750000238418579, 1.0, 1.0, 0.9750000238418579, 0.9750000238418579, 0.875, 0.9750000238418579, 0.9750000238418579]\n",
            "acc:  [0.9502598643302917, 0.9799554347991943, 0.9910913109779358, 0.9936896562576294, 0.9922049045562744, 0.9936896562576294, 0.993318498134613, 0.9929472804069519, 0.9959168434143066, 0.994803249835968, 0.9977728128433228, 0.9974016547203064, 0.9996287822723389, 0.9992576241493225, 1.0, 0.9966592192649841, 0.998515248298645, 0.9970304369926453, 0.9974016547203064, 0.9977728128433228]\n",
            "Val_loss:  [0.784199595451355, 1.9068517684936523, 0.7668889760971069, 0.006382206920534372, 0.39291077852249146, 0.06190957501530647, 0.5995733737945557, 4.217700958251953, 0.005755954422056675, 0.2504699230194092, 0.03145404905080795, 0.14151139557361603, 0.16950538754463196, 0.0, 0.00010837302397703752, 0.38342732191085815, 0.019468579441308975, 1.4660589694976807, 0.2336382120847702, 0.3834287226200104]\n",
            "loss:  [0.19643807411193848, 0.07077432423830032, 0.04502714425325394, 0.0385444276034832, 0.04486389830708504, 0.02876756712794304, 0.03933025151491165, 0.03929905220866203, 0.02063196338713169, 0.0312026496976614, 0.01988884247839451, 0.023162590339779854, 0.00580611452460289, 0.007527053821831942, 0.00018864487356040627, 0.030329527333378792, 0.011160725727677345, 0.023367159068584442, 0.023712143301963806, 0.012196866795420647]\n"
          ],
          "name": "stdout"
        }
      ]
    }
  ]
}